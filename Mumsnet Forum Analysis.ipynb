{
 "cells": [
  {
   "cell_type": "markdown",
   "metadata": {},
   "source": [
    "# Mumsnet Forum Analysis\n",
    "\n",
    "In this notebook, I am going to be using unsupervised machine learning techniques to gain insights to different forums that Mumsnet have on their website."
   ]
  },
  {
   "cell_type": "markdown",
   "metadata": {},
   "source": [
    "### Importing relevant libraries and data"
   ]
  },
  {
   "cell_type": "code",
   "execution_count": 1,
   "metadata": {},
   "outputs": [],
   "source": [
    "import numpy as np \n",
    "import pandas as pd\n",
    "import matplotlib.pyplot as plt\n",
    "import re\n",
    "from stop_words import get_stop_words\n",
    "plt.style.use('ggplot')\n",
    "import string"
   ]
  },
  {
   "cell_type": "code",
   "execution_count": 2,
   "metadata": {},
   "outputs": [],
   "source": [
    "#reading in the data\n",
    "data = pd.read_csv('mumsnet_test.csv')\n",
    "\n",
    "def preprocess_data(df):\n",
    "    \"\"\"A function splits up the DateTime column into separate columns:\n",
    "    - Year\n",
    "    - Month\n",
    "    - Day\n",
    "    - Date\n",
    "    - Time\"\"\"\n",
    "    \n",
    "    #make sure date column has the correct format\n",
    "    data['DateTime'] = pd.to_datetime(data['DateTime'])\n",
    "    \n",
    "    #Creating the new columns.\n",
    "    df['Year'] = df['DateTime'].dt.year\n",
    "    df['Month'] = df['DateTime'].dt.month\n",
    "    df['Day'] = df['DateTime'].dt.day\n",
    "    df['Date'] = df['DateTime'].dt.date\n",
    "    df['Time'] = df['DateTime'].dt.time\n",
    "    \n",
    "    return df\n",
    "\n",
    "data = preprocess_data(data)"
   ]
  },
  {
   "cell_type": "markdown",
   "metadata": {},
   "source": [
    "### Info about the data:\n",
    "\n",
    "- ID - is the unique identifier for a Mumsnet 'Thread' or Discussion page.\n",
    "- Title - The Title of the page\n",
    "- Forum - Mumsnet's Talk Forums it came from.\n",
    "- DateTime - Timestamp from when the message was posted\n",
    "- Message - The content of the message containing an amazon link"
   ]
  },
  {
   "cell_type": "code",
   "execution_count": 3,
   "metadata": {},
   "outputs": [
    {
     "name": "stdout",
     "output_type": "stream",
     "text": [
      "The data has 1463 rows and 10 columns.\n"
     ]
    }
   ],
   "source": [
    "print(f'The data has {data.shape[0]} rows and {data.shape[1]} columns.')"
   ]
  },
  {
   "cell_type": "code",
   "execution_count": 4,
   "metadata": {
    "scrolled": true
   },
   "outputs": [
    {
     "data": {
      "text/html": [
       "<div>\n",
       "<style scoped>\n",
       "    .dataframe tbody tr th:only-of-type {\n",
       "        vertical-align: middle;\n",
       "    }\n",
       "\n",
       "    .dataframe tbody tr th {\n",
       "        vertical-align: top;\n",
       "    }\n",
       "\n",
       "    .dataframe thead th {\n",
       "        text-align: right;\n",
       "    }\n",
       "</style>\n",
       "<table border=\"1\" class=\"dataframe\">\n",
       "  <thead>\n",
       "    <tr style=\"text-align: right;\">\n",
       "      <th></th>\n",
       "      <th>ID</th>\n",
       "      <th>Title</th>\n",
       "      <th>Forum</th>\n",
       "      <th>DateTime</th>\n",
       "      <th>Message</th>\n",
       "      <th>Year</th>\n",
       "      <th>Month</th>\n",
       "      <th>Day</th>\n",
       "      <th>Date</th>\n",
       "      <th>Time</th>\n",
       "    </tr>\n",
       "  </thead>\n",
       "  <tbody>\n",
       "    <tr>\n",
       "      <th>1346</th>\n",
       "      <td>4091964</td>\n",
       "      <td>Can anyone recommend a drawing tablet please?</td>\n",
       "      <td>geeky_stuff</td>\n",
       "      <td>2020-12-02 08:07:35+00:00</td>\n",
       "      <td>[[https://www.amazon.co.uk/Wacom-Intuos-Draw-T...</td>\n",
       "      <td>2020</td>\n",
       "      <td>12</td>\n",
       "      <td>2</td>\n",
       "      <td>2020-12-02</td>\n",
       "      <td>08:07:35</td>\n",
       "    </tr>\n",
       "    <tr>\n",
       "      <th>129</th>\n",
       "      <td>4094703</td>\n",
       "      <td>What to do when you and DH fundamentally disag...</td>\n",
       "      <td>parenting</td>\n",
       "      <td>2020-12-02 11:01:34+00:00</td>\n",
       "      <td>Buy him \"Babies and Toddlers for Men\" by Mark ...</td>\n",
       "      <td>2020</td>\n",
       "      <td>12</td>\n",
       "      <td>2</td>\n",
       "      <td>2020-12-02</td>\n",
       "      <td>11:01:34</td>\n",
       "    </tr>\n",
       "    <tr>\n",
       "      <th>1345</th>\n",
       "      <td>4091964</td>\n",
       "      <td>Can anyone recommend a drawing tablet please?</td>\n",
       "      <td>geeky_stuff</td>\n",
       "      <td>2020-12-02 11:08:40+00:00</td>\n",
       "      <td>This is the XP Pen one we got DSS: \\n[[https:/...</td>\n",
       "      <td>2020</td>\n",
       "      <td>12</td>\n",
       "      <td>2</td>\n",
       "      <td>2020-12-02</td>\n",
       "      <td>11:08:40</td>\n",
       "    </tr>\n",
       "    <tr>\n",
       "      <th>128</th>\n",
       "      <td>4095813</td>\n",
       "      <td>Can anyone recommend some scales?</td>\n",
       "      <td>calorie_counting</td>\n",
       "      <td>2020-12-02 12:34:47+00:00</td>\n",
       "      <td>I have these ones. Do the job and cheap. [[htt...</td>\n",
       "      <td>2020</td>\n",
       "      <td>12</td>\n",
       "      <td>2</td>\n",
       "      <td>2020-12-02</td>\n",
       "      <td>12:34:47</td>\n",
       "    </tr>\n",
       "    <tr>\n",
       "      <th>1072</th>\n",
       "      <td>4095926</td>\n",
       "      <td>High chair to boaster seat</td>\n",
       "      <td>parenting</td>\n",
       "      <td>2020-12-02 13:39:20+00:00</td>\n",
       "      <td>We went from the Ikea highchair to a BabyDan h...</td>\n",
       "      <td>2020</td>\n",
       "      <td>12</td>\n",
       "      <td>2</td>\n",
       "      <td>2020-12-02</td>\n",
       "      <td>13:39:20</td>\n",
       "    </tr>\n",
       "  </tbody>\n",
       "</table>\n",
       "</div>"
      ],
      "text/plain": [
       "           ID                                              Title  \\\n",
       "1346  4091964      Can anyone recommend a drawing tablet please?   \n",
       "129   4094703  What to do when you and DH fundamentally disag...   \n",
       "1345  4091964      Can anyone recommend a drawing tablet please?   \n",
       "128   4095813                  Can anyone recommend some scales?   \n",
       "1072  4095926                        High chair to boaster seat    \n",
       "\n",
       "                 Forum                  DateTime  \\\n",
       "1346       geeky_stuff 2020-12-02 08:07:35+00:00   \n",
       "129          parenting 2020-12-02 11:01:34+00:00   \n",
       "1345       geeky_stuff 2020-12-02 11:08:40+00:00   \n",
       "128   calorie_counting 2020-12-02 12:34:47+00:00   \n",
       "1072         parenting 2020-12-02 13:39:20+00:00   \n",
       "\n",
       "                                                Message  Year  Month  Day  \\\n",
       "1346  [[https://www.amazon.co.uk/Wacom-Intuos-Draw-T...  2020     12    2   \n",
       "129   Buy him \"Babies and Toddlers for Men\" by Mark ...  2020     12    2   \n",
       "1345  This is the XP Pen one we got DSS: \\n[[https:/...  2020     12    2   \n",
       "128   I have these ones. Do the job and cheap. [[htt...  2020     12    2   \n",
       "1072  We went from the Ikea highchair to a BabyDan h...  2020     12    2   \n",
       "\n",
       "            Date      Time  \n",
       "1346  2020-12-02  08:07:35  \n",
       "129   2020-12-02  11:01:34  \n",
       "1345  2020-12-02  11:08:40  \n",
       "128   2020-12-02  12:34:47  \n",
       "1072  2020-12-02  13:39:20  "
      ]
     },
     "execution_count": 4,
     "metadata": {},
     "output_type": "execute_result"
    }
   ],
   "source": [
    "#quick view of the data.\n",
    "data.sort_values(by='DateTime').head()"
   ]
  },
  {
   "cell_type": "markdown",
   "metadata": {},
   "source": [
    "### Preprocessing the Data\n",
    "\n",
    "Let's preprocess the data ready for cluster analysis"
   ]
  },
  {
   "cell_type": "code",
   "execution_count": 5,
   "metadata": {},
   "outputs": [],
   "source": [
    "def format_text_data(my_string):\n",
    "    \n",
    "    '''Cleans up message column using regular expressions.\n",
    "    This function does:\n",
    "    - Makes all characters in string lower case\n",
    "    - Removes \\n characters.\n",
    "    - Replaces amazon links with <link>\n",
    "    - Removes some other unwanted charaters.'''\n",
    "    \n",
    "    my_string = my_string.lower()\n",
    "    my_string = re.sub('\\n', '', my_string)\n",
    "    my_string = re.sub('http\\S+', ' ', my_string)\n",
    "    my_string = re.sub('\\[\\[.*\\]\\]', ' <link> ', my_string)\n",
    "    my_string = re.sub('â€™', \"'\", my_string)\n",
    "    my_string = re.sub('-', ' ', my_string)\n",
    "    my_string = re.sub('amazon', ' ', my_string)\n",
    "    my_string = re.sub('www', ' ', my_string)\n",
    "\n",
    "    \n",
    "    return my_string\n",
    "\n",
    "#Apply the above function to my message column in the data.\n",
    "data['Message'] = data['Message'].apply(format_text_data)"
   ]
  },
  {
   "cell_type": "code",
   "execution_count": 6,
   "metadata": {},
   "outputs": [],
   "source": [
    "#Stop word dictionary.\n",
    "personal_stop_words_list = ['<link>', 'dd', 'dh', 'dp', 'amazon', 'recommend', 'actually', 'ago', 'also', 'www']\n",
    "my_stop_words = get_stop_words('en') + personal_stop_words_list"
   ]
  },
  {
   "cell_type": "code",
   "execution_count": 7,
   "metadata": {},
   "outputs": [
    {
     "name": "stderr",
     "output_type": "stream",
     "text": [
      "G:\\Users\\Nikhil\\lib\\site-packages\\pandas\\core\\indexing.py:670: SettingWithCopyWarning: \n",
      "A value is trying to be set on a copy of a slice from a DataFrame\n",
      "\n",
      "See the caveats in the documentation: https://pandas.pydata.org/pandas-docs/stable/user_guide/indexing.html#returning-a-view-versus-a-copy\n",
      "  iloc._setitem_with_indexer(indexer, value)\n"
     ]
    }
   ],
   "source": [
    "data['message_filtered'] = pd.Series([my_string.split() for my_string in data['Message'].values])\n",
    "for i, my_string in enumerate(data['message_filtered'].values):\n",
    "    data['message_filtered'].iloc[i] = [word for word in my_string if word not in my_stop_words]"
   ]
  },
  {
   "cell_type": "code",
   "execution_count": 8,
   "metadata": {},
   "outputs": [],
   "source": [
    "sorted_data = data.groupby(['Forum'], as_index=False).count().sort_values(by='Message', ascending=False)"
   ]
  },
  {
   "cell_type": "code",
   "execution_count": 9,
   "metadata": {},
   "outputs": [],
   "source": [
    "#number of forums to consider when clustering.\n",
    "top_n = 25\n",
    "\n",
    "top_n_forum_list = sorted_data.Forum.values[:top_n] #list of top_n_forums."
   ]
  },
  {
   "cell_type": "code",
   "execution_count": 10,
   "metadata": {},
   "outputs": [],
   "source": [
    "top_n_forum_list = sorted_data.Forum.values[:top_n]"
   ]
  },
  {
   "cell_type": "code",
   "execution_count": 11,
   "metadata": {},
   "outputs": [],
   "source": [
    "forum_corpus = {}\n",
    "\n",
    "#Create dict of all words that are said in each forum.\n",
    "for _, array in data[data['Forum'].isin(top_n_forum_list)].iterrows():\n",
    "    \n",
    "    try: forum_corpus[array['Forum']] += array['message_filtered']\n",
    "    except: forum_corpus[array['Forum']] = array['message_filtered']\n",
    "\n",
    "#List of strings where each string contains all the words said in that forum.        \n",
    "corpus = [' '.join(forum_word_list) for forum_word_list in forum_corpus.values()]"
   ]
  },
  {
   "cell_type": "markdown",
   "metadata": {},
   "source": [
    "# Text Clustering\n",
    "\n",
    "In this section we are going to:\n",
    "\n",
    "- Create a relevant data structure which so we can perform tfidf\n",
    "- Use a clustering algorithm to see which forums are similar based upon what text is being talked about on each forum."
   ]
  },
  {
   "cell_type": "code",
   "execution_count": 12,
   "metadata": {},
   "outputs": [],
   "source": [
    "from sklearn.feature_extraction.text import TfidfVectorizer"
   ]
  },
  {
   "cell_type": "code",
   "execution_count": 13,
   "metadata": {},
   "outputs": [],
   "source": [
    "vectoriser = TfidfVectorizer(max_features=200, min_df=2, max_df=10, ngram_range=(2,2))\n",
    "tfidf_matrix = vectoriser.fit_transform(corpus) "
   ]
  },
  {
   "cell_type": "code",
   "execution_count": 14,
   "metadata": {},
   "outputs": [],
   "source": [
    "from sklearn.manifold import TSNE"
   ]
  },
  {
   "cell_type": "code",
   "execution_count": 15,
   "metadata": {},
   "outputs": [],
   "source": [
    "tsne_model = TSNE(n_components=2, perplexity=4, metric='euclidean', random_state=42)\n",
    "\n",
    "X = tsne_model.fit_transform(tfidf_matrix)"
   ]
  },
  {
   "cell_type": "code",
   "execution_count": 16,
   "metadata": {},
   "outputs": [
    {
     "data": {
      "image/png": "[encoded data removed]",
      "text/plain": [
       "<Figure size 720x720 with 1 Axes>"
      ]
     },
     "metadata": {},
     "output_type": "display_data"
    }
   ],
   "source": [
    "fig, ax = plt.subplots(figsize=(10,10))\n",
    "\n",
    "ax.scatter(x=X[:,0], y=X[:,1])\n",
    "\n",
    "for i, txt in enumerate(list(forum_corpus.keys())):\n",
    "    #make sure text doesn't overlap.\n",
    "    if txt in ['feeling_depressed', 'pregnancy']:\n",
    "        ax.annotate(txt, (X[:,0][i], X[:,1][i]-15))\n",
    "    else:\n",
    "        ax.annotate(txt, (X[:,0][i], X[:,1][i]))\n",
    "    \n",
    "plt.tick_params(top=False, bottom=False, left=False, right=False,\n",
    "                labelleft=False, labelbottom=False)\n",
    "plt.savefig('forum_cluster.png')\n",
    "plt.show()"
   ]
  },
  {
   "cell_type": "markdown",
   "metadata": {},
   "source": [
    "#### Discussion\n",
    "\n",
    "We see some interesting groups of forums which support our intution. Groups which are close together mean that similar words and word couples are being used together within those forums. \n",
    "\n",
    "We can deduce a few groups from this visual:\n",
    "\n",
    "- In the top left we see a group of forums relating to fitness and health. (low carb bootcamp, weight loss chat, pregnancy, exercise)\n",
    "- Middle right we see a group for creative and art forums. (arts and crafts, what we're reading)\n",
    "- At the bottom we see a large group of forums around children. (Christmas, childrens books, parenting, breat and bottle feeding)\n",
    "\n",
    "Note that we see the chat forum in the middle of the visualisation. This supports our intution as there is no specific subject being talked about."
   ]
  },
  {
   "cell_type": "markdown",
   "metadata": {},
   "source": [
    "## Fitness and Health Forum Group Analysis\n",
    "\n",
    "From the low carb bootcamp, weight loss chat and exercise forums, let's analyse what common bigrams are being used."
   ]
  },
  {
   "cell_type": "code",
   "execution_count": 17,
   "metadata": {},
   "outputs": [],
   "source": [
    "fitness_health_forum_list = ['exercise', 'weight_loss_chat', 'low_carb_bootcamp']\n",
    "fitness_health_corpus_dict = {}\n",
    "\n",
    "for forum_name in fitness_health_forum_list:\n",
    "    \n",
    "    fitness_health_corpus_dict[forum_name] = forum_corpus[forum_name]\n",
    "\n",
    "fitness_health_corpus_list = [' '.join(forum_word_list) for forum_word_list in fitness_health_corpus_dict.values()]"
   ]
  },
  {
   "cell_type": "code",
   "execution_count": 18,
   "metadata": {},
   "outputs": [],
   "source": [
    "from sklearn.feature_extraction.text import CountVectorizer"
   ]
  },
  {
   "cell_type": "code",
   "execution_count": 19,
   "metadata": {},
   "outputs": [],
   "source": [
    "count_vectoriser = CountVectorizer(max_features=200, min_df=2, max_df=10, ngram_range=(2,2))\n",
    "\n",
    "X = count_vectoriser.fit_transform(fitness_health_corpus_list)\n",
    "\n",
    "words_in_forum_list = count_vectoriser.get_feature_names()\n",
    "word_count_sum = np.sum(X.toarray(), axis=0)"
   ]
  },
  {
   "cell_type": "code",
   "execution_count": 20,
   "metadata": {},
   "outputs": [
    {
     "name": "stdout",
     "output_type": "stream",
     "text": [
      "Bigram: low carb | Count: 8\n",
      "Bigram: suggest looking | Count: 2\n",
      "Bigram: sounds like | Count: 2\n",
      "Bigram: new book | Count: 2\n"
     ]
    }
   ],
   "source": [
    "count_sorted, word_sorted = zip(*sorted(zip(word_count_sum, words_in_forum_list), reverse=True))\n",
    "\n",
    "for i in range(len(word_sorted)):\n",
    "    \n",
    "    print(f'Bigram: {word_sorted[i]} | Count: {count_sorted[i]}')"
   ]
  },
  {
   "cell_type": "markdown",
   "metadata": {},
   "source": [
    "## Household Forum Group Analysis\n",
    "\n",
    "This group contains the house keeping, food and recipes, property and gardening forums"
   ]
  },
  {
   "cell_type": "code",
   "execution_count": 21,
   "metadata": {},
   "outputs": [],
   "source": [
    "household_forum_list = ['property', 'food_and_recipes', 'gardening', 'housekeeping']\n",
    "household_corpus_dict = {}\n",
    "\n",
    "for forum_name in household_forum_list:\n",
    "    \n",
    "    household_corpus_dict[forum_name] = forum_corpus[forum_name]\n",
    "    \n",
    "household_corpus_list = [' '.join(forum_word_list) for forum_word_list in household_corpus_dict.values()]"
   ]
  },
  {
   "cell_type": "code",
   "execution_count": 22,
   "metadata": {},
   "outputs": [],
   "source": [
    "count_vectoriser = CountVectorizer(max_features=200, min_df=2, max_df=10, ngram_range=(2,2))\n",
    "\n",
    "X = count_vectoriser.fit_transform(household_corpus_list)\n",
    "\n",
    "words_in_forum_list = count_vectoriser.get_feature_names()\n",
    "word_count_sum = np.sum(X.toarray(), axis=0)"
   ]
  },
  {
   "cell_type": "code",
   "execution_count": 23,
   "metadata": {},
   "outputs": [
    {
     "name": "stdout",
     "output_type": "stream",
     "text": [
      "Bigram: one these | Count: 7\n",
      "Bigram: new one | Count: 3\n",
      "Bigram: might worth | Count: 3\n",
      "Bigram: like one | Count: 3\n",
      "Bigram: well one | Count: 2\n",
      "Bigram: these quote | Count: 2\n",
      "Bigram: tend use | Count: 2\n",
      "Bigram: one use | Count: 2\n",
      "Bigram: one think | Count: 2\n",
      "Bigram: looks like | Count: 2\n",
      "Bigram: like can | Count: 2\n",
      "Bigram: got one | Count: 2\n",
      "Bigram: good quality | Count: 2\n",
      "Bigram: go one | Count: 2\n",
      "Bigram: can go | Count: 2\n",
      "Bigram: bit like | Count: 2\n",
      "Bigram: and or | Count: 2\n"
     ]
    }
   ],
   "source": [
    "count_sorted, word_sorted = zip(*sorted(zip(word_count_sum, words_in_forum_list), reverse=True))\n",
    "\n",
    "for i in range(len(word_sorted)):\n",
    "    \n",
    "    print(f'Bigram: {word_sorted[i]} | Count: {count_sorted[i]}')"
   ]
  },
  {
   "cell_type": "markdown",
   "metadata": {},
   "source": [
    "## Children Forum Group Analysis\n",
    "\n",
    "This group contains breast and bottle feeding, parenting, christmas, childrens books and miscarriage forums."
   ]
  },
  {
   "cell_type": "code",
   "execution_count": 24,
   "metadata": {},
   "outputs": [],
   "source": [
    "children_forum_list = ['breast_and_bottle_feeding', 'parenting',\n",
    "                       'Christmas', 'childrens_books', 'miscarriage']\n",
    "children_corpus_dict = {}\n",
    "\n",
    "for forum_name in children_forum_list:\n",
    "    \n",
    "    children_corpus_dict[forum_name] = forum_corpus[forum_name]\n",
    "    \n",
    "children_corpus_list = [' '.join(forum_word_list) for forum_word_list in children_corpus_dict.values()]"
   ]
  },
  {
   "cell_type": "code",
   "execution_count": 25,
   "metadata": {},
   "outputs": [],
   "source": [
    "count_vectoriser = CountVectorizer(max_features=200, min_df=2, max_df=10, ngram_range=(2,2))\n",
    "\n",
    "X = count_vectoriser.fit_transform(children_corpus_list)\n",
    "\n",
    "words_in_forum_list = count_vectoriser.get_feature_names()\n",
    "word_count_sum = np.sum(X.toarray(), axis=0)"
   ]
  },
  {
   "cell_type": "code",
   "execution_count": 26,
   "metadata": {
    "scrolled": true
   },
   "outputs": [
    {
     "name": "stdout",
     "output_type": "stream",
     "text": [
      "Bigram: year old | Count: 17\n",
      "Bigram: something like | Count: 8\n",
      "Bigram: got one | Count: 7\n",
      "Bigram: really good | Count: 6\n",
      "Bigram: like it | Count: 5\n",
      "Bigram: every day | Count: 5\n",
      "Bigram: can add | Count: 5\n",
      "Bigram: tongue tie | Count: 4\n",
      "Bigram: sounds like | Count: 4\n",
      "Bigram: one one | Count: 4\n",
      "Bigram: might help | Count: 4\n",
      "Bigram: make sure | Count: 4\n",
      "Bigram: like one | Count: 4\n",
      "Bigram: wondering whether | Count: 3\n",
      "Bigram: try this | Count: 3\n",
      "Bigram: though sure | Count: 3\n",
      "Bigram: sun cream | Count: 3\n",
      "Bigram: paw patrol | Count: 3\n",
      "Bigram: one two | Count: 3\n",
      "Bigram: olive oil | Count: 3\n",
      "Bigram: old still | Count: 3\n",
      "Bigram: much better | Count: 3\n",
      "Bigram: lots different | Count: 3\n",
      "Bigram: like this | Count: 3\n",
      "Bigram: let know | Count: 3\n",
      "Bigram: good quality | Count: 3\n",
      "Bigram: facebook group | Count: 3\n",
      "Bigram: colouring book | Count: 3\n",
      "Bigram: can make | Count: 3\n",
      "Bigram: can find | Count: 3\n",
      "Bigram: ðÿ žðÿ | Count: 2\n",
      "Bigram: will see | Count: 2\n",
      "Bigram: will help | Count: 2\n",
      "Bigram: will definitely | Count: 2\n",
      "Bigram: whole family | Count: 2\n",
      "Bigram: well far | Count: 2\n",
      "Bigram: weeks ago | Count: 2\n",
      "Bigram: way get | Count: 2\n",
      "Bigram: virgin olive | Count: 2\n",
      "Bigram: used loads | Count: 2\n",
      "Bigram: tomato sauce | Count: 2\n",
      "Bigram: they re | Count: 2\n",
      "Bigram: these ones | Count: 2\n",
      "Bigram: the might | Count: 2\n",
      "Bigram: thank you | Count: 2\n",
      "Bigram: support group | Count: 2\n",
      "Bigram: small pot | Count: 2\n",
      "Bigram: says try | Count: 2\n",
      "Bigram: really need | Count: 2\n",
      "Bigram: really liked | Count: 2\n",
      "Bigram: really like | Count: 2\n",
      "Bigram: quite bit | Count: 2\n",
      "Bigram: ordered these | Count: 2\n",
      "Bigram: one too | Count: 2\n",
      "Bigram: one thing | Count: 2\n",
      "Bigram: one good | Count: 2\n",
      "Bigram: one evidence | Count: 2\n",
      "Bigram: old love | Count: 2\n",
      "Bigram: old dd | Count: 2\n",
      "Bigram: oil coarse | Count: 2\n",
      "Bigram: need talk | Count: 2\n",
      "Bigram: need take | Count: 2\n",
      "Bigram: move away | Count: 2\n",
      "Bigram: morning got | Count: 2\n",
      "Bigram: milk supply | Count: 2\n",
      "Bigram: make vegetables | Count: 2\n",
      "Bigram: loved it | Count: 2\n",
      "Bigram: love them | Count: 2\n",
      "Bigram: just want | Count: 2\n",
      "Bigram: just ordered | Count: 2\n",
      "Bigram: it want | Count: 2\n",
      "Bigram: it simple | Count: 2\n",
      "Bigram: hot chocolate | Count: 2\n",
      "Bigram: hope helps | Count: 2\n",
      "Bigram: high chair | Count: 2\n",
      "Bigram: hang there | Count: 2\n",
      "Bigram: got ones | Count: 2\n",
      "Bigram: good luck | Count: 2\n",
      "Bigram: get one | Count: 2\n",
      "Bigram: get better | Count: 2\n",
      "Bigram: generally good | Count: 2\n",
      "Bigram: garlic fresh | Count: 2\n",
      "Bigram: fresh rosemary | Count: 2\n",
      "Bigram: extra virgin | Count: 2\n",
      "Bigram: evidence based | Count: 2\n",
      "Bigram: etc used | Count: 2\n",
      "Bigram: dchild keywords | Count: 2\n",
      "Bigram: day ðÿ | Count: 2\n",
      "Bigram: coarse salt | Count: 2\n",
      "Bigram: co uk | Count: 2\n",
      "Bigram: chicken breast | Count: 2\n",
      "Bigram: can put | Count: 2\n",
      "Bigram: can afford | Count: 2\n",
      "Bigram: bit salt | Count: 2\n",
      "Bigram: bit like | Count: 2\n",
      "Bigram: bit better | Count: 2\n",
      "Bigram: biggest thing | Count: 2\n",
      "Bigram: baby sleep | Count: 2\n",
      "Bigram: alone one | Count: 2\n",
      "Bigram: add bit | Count: 2\n"
     ]
    }
   ],
   "source": [
    "count_sorted, word_sorted = zip(*sorted(zip(word_count_sum, words_in_forum_list), reverse=True))\n",
    "\n",
    "for i in range(len(word_sorted)):\n",
    "    \n",
    "    print(f'Bigram: {word_sorted[i]} | Count: {count_sorted[i]}')"
   ]
  }
 ],
 "metadata": {
  "kernelspec": {
   "display_name": "Python 3",
   "language": "python",
   "name": "python3"
  },
  "language_info": {
   "codemirror_mode": {
    "name": "ipython",
    "version": 3
   },
   "file_extension": ".py",
   "mimetype": "text/x-python",
   "name": "python",
   "nbconvert_exporter": "python",
   "pygments_lexer": "ipython3",
   "version": "3.8.5"
  }
 },
 "nbformat": 4,
 "nbformat_minor": 4
}
